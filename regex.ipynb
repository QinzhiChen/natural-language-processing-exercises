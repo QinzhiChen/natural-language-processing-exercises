{
 "cells": [
  {
   "cell_type": "code",
   "execution_count": 3,
   "id": "671a0713",
   "metadata": {},
   "outputs": [],
   "source": [
    "import re\n",
    "import pandas as pd\n",
    "import numpy as np"
   ]
  },
  {
   "cell_type": "code",
   "execution_count": 4,
   "id": "b6f6da77",
   "metadata": {},
   "outputs": [],
   "source": [
    "regexp=r'[aeiou]'"
   ]
  },
  {
   "cell_type": "code",
   "execution_count": 19,
   "id": "ba58c61e",
   "metadata": {},
   "outputs": [],
   "source": [
    "# create is null function\n",
    "def is_vowel(x):\n",
    "    regexp = r'[aeiou]'\n",
    "\n",
    "    if re.search(regexp, x, re.IGNORECASE):\n",
    "        return True,re.findall(regexp,x)\n",
    "    else:\n",
    "        return False"
   ]
  },
  {
   "cell_type": "code",
   "execution_count": 20,
   "id": "e3aca6c0",
   "metadata": {},
   "outputs": [
    {
     "data": {
      "text/plain": [
       "False"
      ]
     },
     "execution_count": 20,
     "metadata": {},
     "output_type": "execute_result"
    }
   ],
   "source": [
    "is_vowel('bbbbbbb')"
   ]
  },
  {
   "cell_type": "code",
   "execution_count": 21,
   "id": "6287d988",
   "metadata": {},
   "outputs": [
    {
     "data": {
      "text/plain": [
       "(True, ['e', 'e'])"
      ]
     },
     "execution_count": 21,
     "metadata": {},
     "output_type": "execute_result"
    }
   ],
   "source": [
    "is_vowel('teetg')"
   ]
  },
  {
   "cell_type": "code",
   "execution_count": null,
   "id": "1f0a66b8",
   "metadata": {},
   "outputs": [],
   "source": []
  }
 ],
 "metadata": {
  "kernelspec": {
   "display_name": "Python 3 (ipykernel)",
   "language": "python",
   "name": "python3"
  },
  "language_info": {
   "codemirror_mode": {
    "name": "ipython",
    "version": 3
   },
   "file_extension": ".py",
   "mimetype": "text/x-python",
   "name": "python",
   "nbconvert_exporter": "python",
   "pygments_lexer": "ipython3",
   "version": "3.9.12"
  }
 },
 "nbformat": 4,
 "nbformat_minor": 5
}
